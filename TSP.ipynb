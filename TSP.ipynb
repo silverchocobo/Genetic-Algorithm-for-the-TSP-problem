{
  "nbformat": 4,
  "nbformat_minor": 0,
  "metadata": {
    "colab": {
      "provenance": []
    },
    "kernelspec": {
      "name": "python3",
      "display_name": "Python 3"
    },
    "language_info": {
      "name": "python"
    }
  },
  "cells": [
    {
      "cell_type": "markdown",
      "source": [
        "#Integrantes do Grupo\n",
        "Agatha Quadros\n",
        "\n",
        "Bernardo Petry Salvador\n",
        "\n",
        "Pedro Gustavo Lopes Thomas\n",
        "\n",
        "Victor Carpegiani\n",
        "\n"
      ],
      "metadata": {
        "id": "SWJceZ114LYR"
      }
    },
    {
      "cell_type": "markdown",
      "source": [
        "# Problema do Caixeiro viajante\n",
        "O problema do Caixeiro viajante (Traveling Salesman Problem) é um problema famoso que simula o trajeto de um comerciante por várias cidades antes de retornar à cidade origem.\n",
        "\n",
        "O problema do caixeiro viajante exige que calculemos o melhor trajeto para percorrer uma lista de cidades de uma instância. Para isso, criaremos um dicionário para cada instância do problema, contendo o índice da lista e as coordenadas x e y."
      ],
      "metadata": {
        "id": "BdU9GAUyhU1v"
      }
    },
    {
      "cell_type": "markdown",
      "source": [
        "# Análise do problema\n",
        "O problema do caixeiro viajante se trata de um problema totalmente observável, sequencial, monoagente, determinístico, estático, discreto e conhecido. Possui um grande número de soluções possíveis, e para achar a melhor, utilizaremos um algoritmo genético, cuja abstração pode ser representado pelo pseudocódigo abaixo (RUSSEL; NORVIG, 2022, p. 106) :\n",
        "\n",
        "```\n",
        "função ALGORITMO-GENÉTICO(população, adapta) retorna um indivíduo\n",
        "repita\n",
        "  pesos ← PESADO-POR(população, adapta)\n",
        "  população2 ← lista vazia\n",
        "  para i = 1 até TAMANHO(população) faça\n",
        "    pai1, pai2 ← SELEÇÃO-ALEATÓRIA(população, pesos, 2)\n",
        "    filho ← REPRODUZ(pai1, pai2)\n",
        "    se (pequena probabilidade aleatória) então filho ← MUTAÇÃO(filho)\n",
        "    adicionar filho à população2\n",
        "  população ← população2\n",
        "até um indivíduo estar adaptado o bastante ou até ter decorrido tempo suficiente\n",
        "retornar o melhor indivíduo em população, de acordo com adapta\n",
        "\n",
        "```\n",
        "\n",
        "```\n",
        "função REPRODUZ(pai1, pai2) retorna um indivíduo\n",
        "n ← COMPRIMENTO(pai1)\n",
        "c ← número aleatório de 1 a n\n",
        "retornar CONCATENA(SUBCADEIA(pai1,1,c), SUBCADEIA(pai2,c + 1,n))\n",
        "```\n",
        "\n",
        "\n",
        "\n"
      ],
      "metadata": {
        "id": "6tp-RZy0mGUG"
      }
    },
    {
      "cell_type": "markdown",
      "source": [
        "# Declaração Matemática do problema\n",
        "\n",
        "\n",
        "Considerando que é um problema de otimização combinatória que busca encontrar a rota mais curta que visita todas as cidades de um conjunto:\n",
        "![image-removebg-preview (2).png](data:image/png;base64,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)\n",
        "\n",
        "\n",
        "\n",
        "\n",
        "**π**: Uma permutação das cidades, ou seja, uma ordem de visita. Por exemplo, se temos 4 cidades,\n",
        "π=(2,3,1,4) indica que a ordem de visita será cidade 2 → 3 → 1 → 4.\n",
        "\n",
        "**d*𝑖𝑗***  : A distância entre as cidades i e j.\n",
        "\n",
        "**n-1\n",
        "∑\n",
        "i = 1 d\n",
        "π(i),π(i+1)**\n",
        " ​: Soma as distâncias entre cada cidade e a próxima na permutação menos do fim para o inicio\n",
        "\n",
        "\n",
        " **𝜋\n",
        "(\n",
        "𝑖\n",
        ")\n",
        "π(i)**: A cidade na posição\n",
        "𝑖\n",
        "i da permutação.\n",
        "\n",
        " **+d\n",
        "π(n),π(1)**\n",
        "​\n",
        " : adiciona a distância do último ponto de volta ao primeiro, formando um ciclo fechado.\n",
        "\n",
        " Exemplo: Se temos 4 cidades em um conjunto (1,3,4,2)\n",
        "\n",
        " O caminho será  1 --> 3 --> 4 --> 2\n",
        "\n",
        "E o custo total será d *1,3* +d *3,4*​+d *4,2*+d *2,1*\n",
        "​\n",
        "\n",
        "\n"
      ],
      "metadata": {
        "id": "yqSHkERemwZu"
      }
    },
    {
      "cell_type": "markdown",
      "source": [
        "# Espaço de busca\n",
        "O espaço de busca é o conjunto de todas as permutações possíveis de n cidades, ou seja:\n",
        "\n",
        "∣S∣ = n!\n",
        "\n",
        "Utilizando o exemplo da instancia de \"Berlin52\", temos um percurso de 52!, que resulta em aproximadamente **8,07 × 10⁶⁷**\n",
        "\n",
        "O tamanho de tal espaço de busca é o motivo pelo qual técnicas exatas se tornam inviáveis, e técnicas heurísticas são recomendadas.\n"
      ],
      "metadata": {
        "id": "lf_KxVZZw6tO"
      }
    },
    {
      "cell_type": "markdown",
      "source": [
        "# Codificação da Solução\n",
        "\n",
        "Cada indivíduo da população representa uma solução possível para o problema, ou seja, uma permutação das cidades.\n",
        "\n",
        "Formalmente, um inviduo é um vetor π = [π1, π2, π3...πn] onde πi ∈ {1,2,...,n} e todos os πi são distintos"
      ],
      "metadata": {
        "id": "q_TSuKStrST_"
      }
    },
    {
      "cell_type": "markdown",
      "source": [
        "# Declaração das instâncias do problema:"
      ],
      "metadata": {
        "id": "a8I-K8UDr36g"
      }
    },
    {
      "cell_type": "code",
      "source": [
        "import pandas as pd\n",
        "import numpy as np\n",
        "from google.colab import drive\n",
        "\n",
        "\n",
        "#Lê e converte linhas dos arquivos em dicionários através da biblioteca pandas\n",
        "berlin52_df = pd.read_csv(\"berlin52.txt\", sep=\" \", header=None, names=[\"id\", \"x\", \"y\"], on_bad_lines='skip')\n",
        "berlin52_dict = berlin52_df.set_index(\"id\").to_dict(orient=\"index\")\n",
        "\n",
        "eil51_df = pd.read_csv(\"eil51.txt\", sep=\" \", header=None, names=[\"id\", \"x\", \"y\"], on_bad_lines='skip')\n",
        "eil51_dict = eil51_df.set_index(\"id\").to_dict(orient=\"index\")\n",
        "\n",
        "pr152_df = pd.read_csv(\"pr152.txt\", sep=\" \", header=None, names=[\"id\", \"x\", \"y\"], on_bad_lines='skip')\n",
        "pr152_dict = pr152_df.set_index(\"id\").to_dict(orient=\"index\")\n",
        "\n",
        "rat99_df = pd.read_csv(\"rat99.txt\", sep=\" \", header=None, names=[\"id\", \"x\", \"y\"], on_bad_lines='skip')\n",
        "rat99_dict = rat99_df.set_index(\"id\").to_dict(orient=\"index\")\n",
        "\n",
        "#Exibição dos dicinários\n",
        "\n",
        "print(berlin52_dict)\n",
        "print(eil51_dict)\n",
        "print(pr152_dict)\n",
        "print(rat99_dict)\n",
        "\n",
        "\n",
        "\n"
      ],
      "metadata": {
        "colab": {
          "base_uri": "https://localhost:8080/"
        },
        "id": "83bqxrAlxs4i",
        "outputId": "33b079d4-e6fc-4761-fed7-24553ed73534"
      },
      "execution_count": 143,
      "outputs": [
        {
          "output_type": "stream",
          "name": "stdout",
          "text": [
            "{1: {'x': 565.0, 'y': 575.0}, 2: {'x': 25.0, 'y': 185.0}, 3: {'x': 345.0, 'y': 750.0}, 4: {'x': 945.0, 'y': 685.0}, 5: {'x': 845.0, 'y': 655.0}, 6: {'x': 880.0, 'y': 660.0}, 7: {'x': 25.0, 'y': 230.0}, 8: {'x': 525.0, 'y': 1000.0}, 9: {'x': 580.0, 'y': 1175.0}, 10: {'x': 650.0, 'y': 1130.0}, 12: {'x': 1220.0, 'y': 580.0}, 13: {'x': 1465.0, 'y': 200.0}, 14: {'x': 1530.0, 'y': 5.0}, 15: {'x': 845.0, 'y': 680.0}, 16: {'x': 725.0, 'y': 370.0}, 17: {'x': 145.0, 'y': 665.0}, 18: {'x': 415.0, 'y': 635.0}, 20: {'x': 560.0, 'y': 365.0}, 21: {'x': 300.0, 'y': 465.0}, 22: {'x': 520.0, 'y': 585.0}, 23: {'x': 480.0, 'y': 415.0}, 24: {'x': 835.0, 'y': 625.0}, 25: {'x': 975.0, 'y': 580.0}, 26: {'x': 1215.0, 'y': 245.0}, 27: {'x': 1320.0, 'y': 315.0}, 28: {'x': 1250.0, 'y': 400.0}, 29: {'x': 660.0, 'y': 180.0}, 30: {'x': 410.0, 'y': 250.0}, 31: {'x': 420.0, 'y': 555.0}, 32: {'x': 575.0, 'y': 665.0}, 33: {'x': 1150.0, 'y': 1160.0}, 34: {'x': 700.0, 'y': 580.0}, 35: {'x': 685.0, 'y': 595.0}, 36: {'x': 685.0, 'y': 610.0}, 37: {'x': 770.0, 'y': 610.0}, 38: {'x': 795.0, 'y': 645.0}, 39: {'x': 720.0, 'y': 635.0}, 40: {'x': 760.0, 'y': 650.0}, 41: {'x': 475.0, 'y': 960.0}, 42: {'x': 95.0, 'y': 260.0}, 43: {'x': 875.0, 'y': 920.0}, 44: {'x': 700.0, 'y': 500.0}, 45: {'x': 555.0, 'y': 815.0}, 46: {'x': 830.0, 'y': 485.0}, 47: {'x': 1170.0, 'y': 65.0}, 48: {'x': 830.0, 'y': 610.0}, 49: {'x': 605.0, 'y': 625.0}, 50: {'x': 595.0, 'y': 360.0}, 51: {'x': 1340.0, 'y': 725.0}, 52: {'x': 1740.0, 'y': 245.0}}\n",
            "{1: {'x': 37.0, 'y': 52.0}, 2: {'x': 49.0, 'y': 49.0}, 3: {'x': 52.0, 'y': 64.0}, 4: {'x': 20.0, 'y': 26.0}, 5: {'x': 40.0, 'y': 30.0}, 6: {'x': 21.0, 'y': 47.0}, 7: {'x': 17.0, 'y': 63.0}, 8: {'x': 31.0, 'y': 62.0}, 9: {'x': 52.0, 'y': 33.0}, 10: {'x': 51.0, 'y': 21.0}, 11: {'x': 42.0, 'y': 41.0}, 12: {'x': 31.0, 'y': 32.0}, 13: {'x': 5.0, 'y': 25.0}, 14: {'x': 12.0, 'y': 42.0}, 15: {'x': 36.0, 'y': 16.0}, 16: {'x': 52.0, 'y': 41.0}, 17: {'x': 27.0, 'y': 23.0}, 18: {'x': 17.0, 'y': 33.0}, 19: {'x': 13.0, 'y': 13.0}, 20: {'x': 57.0, 'y': 58.0}, 21: {'x': 62.0, 'y': 42.0}, 22: {'x': 42.0, 'y': 57.0}, 23: {'x': 16.0, 'y': 57.0}, 24: {'x': 8.0, 'y': 52.0}, 25: {'x': 7.0, 'y': 38.0}, 26: {'x': 27.0, 'y': 68.0}, 27: {'x': 30.0, 'y': 48.0}, 28: {'x': 43.0, 'y': 67.0}, 29: {'x': 58.0, 'y': 48.0}, 30: {'x': 58.0, 'y': 27.0}, 31: {'x': 37.0, 'y': 69.0}, 32: {'x': 38.0, 'y': 46.0}, 33: {'x': 46.0, 'y': 10.0}, 34: {'x': 61.0, 'y': 33.0}, 35: {'x': 62.0, 'y': 63.0}, 36: {'x': 63.0, 'y': 69.0}, 37: {'x': 32.0, 'y': 22.0}, 38: {'x': 45.0, 'y': 35.0}, 39: {'x': 59.0, 'y': 15.0}, 40: {'x': 5.0, 'y': 6.0}, 41: {'x': 10.0, 'y': 17.0}, 42: {'x': 21.0, 'y': 10.0}, 43: {'x': 5.0, 'y': 64.0}, 44: {'x': 30.0, 'y': 15.0}, 45: {'x': 39.0, 'y': 10.0}, 46: {'x': 32.0, 'y': 39.0}, 47: {'x': 25.0, 'y': 32.0}, 48: {'x': 25.0, 'y': 55.0}, 49: {'x': 48.0, 'y': 28.0}, 50: {'x': 56.0, 'y': 37.0}, 51: {'x': 30.0, 'y': 40.0}}\n",
            "{1: {'x': 2100.0, 'y': 1850.0}, 2: {'x': 2100.0, 'y': 3000.0}, 3: {'x': 2100.0, 'y': 4400.0}, 4: {'x': 2100.0, 'y': 5550.0}, 5: {'x': 2100.0, 'y': 6950.0}, 6: {'x': 2100.0, 'y': 8100.0}, 7: {'x': 2100.0, 'y': 9500.0}, 8: {'x': 2100.0, 'y': 10650.0}, 9: {'x': 2348.0, 'y': 11205.0}, 10: {'x': 2350.0, 'y': 10050.0}, 11: {'x': 2348.0, 'y': 8655.0}, 12: {'x': 2350.0, 'y': 7500.0}, 13: {'x': 2348.0, 'y': 6105.0}, 14: {'x': 2350.0, 'y': 4950.0}, 15: {'x': 2348.0, 'y': 3555.0}, 16: {'x': 2350.0, 'y': 2400.0}, 17: {'x': 2625.0, 'y': 11175.0}, 18: {'x': 2775.0, 'y': 10995.0}, 19: {'x': 2625.0, 'y': 10025.0}, 20: {'x': 2634.0, 'y': 9748.0}, 21: {'x': 2607.0, 'y': 9831.0}, 22: {'x': 2625.0, 'y': 8625.0}, 23: {'x': 2775.0, 'y': 8445.0}, 24: {'x': 2625.0, 'y': 7475.0}, 25: {'x': 2607.0, 'y': 7281.0}, 26: {'x': 2634.0, 'y': 7198.0}, 27: {'x': 2625.0, 'y': 6075.0}, 28: {'x': 2775.0, 'y': 5895.0}, 29: {'x': 2625.0, 'y': 4925.0}, 30: {'x': 2607.0, 'y': 4731.0}, 31: {'x': 2634.0, 'y': 4648.0}, 32: {'x': 2625.0, 'y': 3525.0}, 33: {'x': 2775.0, 'y': 3345.0}, 34: {'x': 2625.0, 'y': 2375.0}, 35: {'x': 2634.0, 'y': 2098.0}, 36: {'x': 2607.0, 'y': 2181.0}, 37: {'x': 2825.0, 'y': 3025.0}, 38: {'x': 2825.0, 'y': 5575.0}, 39: {'x': 2825.0, 'y': 8125.0}, 40: {'x': 2825.0, 'y': 10675.0}, 41: {'x': 8349.0, 'y': 10106.0}, 42: {'x': 8353.0, 'y': 9397.0}, 43: {'x': 8349.0, 'y': 7556.0}, 44: {'x': 8353.0, 'y': 6847.0}, 45: {'x': 8349.0, 'y': 5006.0}, 46: {'x': 8353.0, 'y': 4297.0}, 47: {'x': 8349.0, 'y': 2456.0}, 48: {'x': 8353.0, 'y': 1747.0}, 49: {'x': 8474.0, 'y': 1777.0}, 50: {'x': 8576.0, 'y': 1803.0}, 51: {'x': 8575.0, 'y': 2325.0}, 52: {'x': 8474.0, 'y': 4327.0}, 53: {'x': 8576.0, 'y': 4353.0}, 54: {'x': 8575.0, 'y': 4875.0}, 55: {'x': 8474.0, 'y': 6877.0}, 56: {'x': 8576.0, 'y': 6903.0}, 57: {'x': 8575.0, 'y': 7425.0}, 58: {'x': 8474.0, 'y': 9427.0}, 59: {'x': 8576.0, 'y': 9453.0}, 60: {'x': 8575.0, 'y': 9975.0}, 61: {'x': 8625.0, 'y': 9875.0}, 62: {'x': 8675.0, 'y': 9675.0}, 63: {'x': 8675.0, 'y': 9525.0}, 64: {'x': 8669.0, 'y': 9450.0}, 65: {'x': 8625.0, 'y': 7325.0}, 66: {'x': 8675.0, 'y': 7125.0}, 67: {'x': 8675.0, 'y': 6975.0}, 68: {'x': 8669.0, 'y': 6900.0}, 69: {'x': 8625.0, 'y': 4775.0}, 70: {'x': 8675.0, 'y': 4575.0}, 71: {'x': 8675.0, 'y': 4425.0}, 72: {'x': 8669.0, 'y': 4350.0}, 73: {'x': 8625.0, 'y': 2225.0}, 74: {'x': 8675.0, 'y': 1875.0}, 75: {'x': 8675.0, 'y': 2025.0}, 76: {'x': 8669.0, 'y': 1800.0}, 77: {'x': 9250.0, 'y': 1850.0}, 78: {'x': 9250.0, 'y': 3000.0}, 79: {'x': 9250.0, 'y': 4400.0}, 80: {'x': 9250.0, 'y': 5550.0}, 81: {'x': 9250.0, 'y': 6950.0}, 82: {'x': 9250.0, 'y': 8100.0}, 83: {'x': 9250.0, 'y': 9500.0}, 84: {'x': 9250.0, 'y': 10650.0}, 85: {'x': 9498.0, 'y': 11205.0}, 86: {'x': 9500.0, 'y': 10050.0}, 87: {'x': 9498.0, 'y': 8655.0}, 88: {'x': 9500.0, 'y': 7500.0}, 89: {'x': 9498.0, 'y': 6105.0}, 90: {'x': 9500.0, 'y': 4950.0}, 91: {'x': 9498.0, 'y': 3555.0}, 92: {'x': 9500.0, 'y': 2400.0}, 93: {'x': 9784.0, 'y': 2098.0}, 94: {'x': 9757.0, 'y': 2181.0}, 95: {'x': 9775.0, 'y': 2375.0}, 96: {'x': 9775.0, 'y': 3525.0}, 97: {'x': 9784.0, 'y': 4648.0}, 98: {'x': 9757.0, 'y': 4731.0}, 99: {'x': 9775.0, 'y': 4925.0}, 100: {'x': 9775.0, 'y': 6075.0}, 101: {'x': 9784.0, 'y': 7198.0}, 102: {'x': 9757.0, 'y': 7281.0}, 103: {'x': 9775.0, 'y': 7475.0}, 104: {'x': 9775.0, 'y': 8625.0}, 105: {'x': 9784.0, 'y': 9748.0}, 106: {'x': 9757.0, 'y': 9831.0}, 107: {'x': 9775.0, 'y': 10025.0}, 108: {'x': 9775.0, 'y': 11175.0}, 109: {'x': 9925.0, 'y': 10995.0}, 110: {'x': 9975.0, 'y': 10675.0}, 111: {'x': 9925.0, 'y': 8445.0}, 112: {'x': 9975.0, 'y': 8125.0}, 113: {'x': 9925.0, 'y': 5895.0}, 114: {'x': 9975.0, 'y': 5575.0}, 115: {'x': 9925.0, 'y': 3345.0}, 116: {'x': 9975.0, 'y': 3025.0}, 117: {'x': 15499.0, 'y': 10106.0}, 118: {'x': 15503.0, 'y': 9397.0}, 119: {'x': 15499.0, 'y': 7556.0}, 120: {'x': 15503.0, 'y': 6847.0}, 121: {'x': 15499.0, 'y': 5006.0}, 122: {'x': 15503.0, 'y': 4297.0}, 123: {'x': 15499.0, 'y': 2456.0}, 124: {'x': 15503.0, 'y': 1747.0}, 125: {'x': 15624.0, 'y': 1777.0}, 126: {'x': 15726.0, 'y': 1803.0}, 127: {'x': 15775.0, 'y': 2225.0}, 128: {'x': 15725.0, 'y': 2325.0}, 129: {'x': 15624.0, 'y': 4327.0}, 130: {'x': 15726.0, 'y': 4353.0}, 131: {'x': 15775.0, 'y': 4775.0}, 132: {'x': 15725.0, 'y': 4875.0}, 133: {'x': 15624.0, 'y': 6877.0}, 134: {'x': 15726.0, 'y': 6903.0}, 135: {'x': 15775.0, 'y': 7325.0}, 136: {'x': 15725.0, 'y': 7425.0}, 137: {'x': 15624.0, 'y': 9427.0}, 138: {'x': 15726.0, 'y': 9453.0}, 139: {'x': 15775.0, 'y': 9875.0}, 140: {'x': 15725.0, 'y': 9975.0}, 141: {'x': 15825.0, 'y': 9675.0}, 142: {'x': 15825.0, 'y': 9525.0}, 143: {'x': 15819.0, 'y': 9450.0}, 144: {'x': 15825.0, 'y': 7125.0}, 145: {'x': 15825.0, 'y': 6975.0}, 146: {'x': 15819.0, 'y': 6900.0}, 147: {'x': 15825.0, 'y': 4575.0}, 148: {'x': 15825.0, 'y': 4425.0}, 149: {'x': 15819.0, 'y': 4350.0}, 150: {'x': 15825.0, 'y': 1875.0}, 151: {'x': 15825.0, 'y': 2025.0}, 152: {'x': 15819.0, 'y': 1800.0}}\n",
            "{1: {'x': 6.0, 'y': 4.0}, 2: {'x': 15.0, 'y': 15.0}, 3: {'x': 24.0, 'y': 18.0}, 4: {'x': 33.0, 'y': 12.0}, 5: {'x': 48.0, 'y': 12.0}, 6: {'x': 57.0, 'y': 14.0}, 7: {'x': 67.0, 'y': 10.0}, 8: {'x': 77.0, 'y': 10.0}, 9: {'x': 86.0, 'y': 15.0}, 10: {'x': 6.0, 'y': 21.0}, 11: {'x': 17.0, 'y': 26.0}, 12: {'x': 23.0, 'y': 25.0}, 13: {'x': 32.0, 'y': 35.0}, 14: {'x': 43.0, 'y': 23.0}, 15: {'x': 55.0, 'y': 35.0}, 16: {'x': 65.0, 'y': 36.0}, 17: {'x': 78.0, 'y': 39.0}, 18: {'x': 87.0, 'y': 35.0}, 19: {'x': 3.0, 'y': 53.0}, 20: {'x': 12.0, 'y': 44.0}, 21: {'x': 28.0, 'y': 53.0}, 22: {'x': 33.0, 'y': 49.0}, 23: {'x': 47.0, 'y': 46.0}, 24: {'x': 55.0, 'y': 52.0}, 25: {'x': 64.0, 'y': 50.0}, 26: {'x': 71.0, 'y': 57.0}, 27: {'x': 87.0, 'y': 57.0}, 28: {'x': 4.0, 'y': 72.0}, 29: {'x': 15.0, 'y': 78.0}, 30: {'x': 22.0, 'y': 70.0}, 31: {'x': 34.0, 'y': 71.0}, 32: {'x': 42.0, 'y': 79.0}, 33: {'x': 54.0, 'y': 77.0}, 34: {'x': 66.0, 'y': 79.0}, 35: {'x': 78.0, 'y': 67.0}, 36: {'x': 87.0, 'y': 73.0}, 37: {'x': 7.0, 'y': 81.0}, 38: {'x': 17.0, 'y': 95.0}, 39: {'x': 26.0, 'y': 98.0}, 40: {'x': 32.0, 'y': 97.0}, 41: {'x': 43.0, 'y': 88.0}, 42: {'x': 57.0, 'y': 89.0}, 43: {'x': 64.0, 'y': 85.0}, 44: {'x': 78.0, 'y': 83.0}, 45: {'x': 83.0, 'y': 98.0}, 46: {'x': 5.0, 'y': 109.0}, 47: {'x': 13.0, 'y': 111.0}, 48: {'x': 25.0, 'y': 102.0}, 49: {'x': 38.0, 'y': 119.0}, 50: {'x': 46.0, 'y': 107.0}, 51: {'x': 58.0, 'y': 110.0}, 52: {'x': 67.0, 'y': 110.0}, 53: {'x': 74.0, 'y': 113.0}, 54: {'x': 88.0, 'y': 110.0}, 55: {'x': 2.0, 'y': 124.0}, 56: {'x': 17.0, 'y': 134.0}, 57: {'x': 23.0, 'y': 129.0}, 58: {'x': 36.0, 'y': 131.0}, 59: {'x': 42.0, 'y': 137.0}, 60: {'x': 53.0, 'y': 123.0}, 61: {'x': 63.0, 'y': 135.0}, 62: {'x': 72.0, 'y': 134.0}, 63: {'x': 87.0, 'y': 129.0}, 64: {'x': 2.0, 'y': 146.0}, 65: {'x': 16.0, 'y': 147.0}, 66: {'x': 25.0, 'y': 153.0}, 67: {'x': 38.0, 'y': 155.0}, 68: {'x': 42.0, 'y': 158.0}, 69: {'x': 57.0, 'y': 154.0}, 70: {'x': 66.0, 'y': 151.0}, 71: {'x': 73.0, 'y': 151.0}, 72: {'x': 86.0, 'y': 149.0}, 73: {'x': 5.0, 'y': 177.0}, 74: {'x': 13.0, 'y': 162.0}, 75: {'x': 25.0, 'y': 169.0}, 76: {'x': 35.0, 'y': 177.0}, 77: {'x': 46.0, 'y': 172.0}, 78: {'x': 54.0, 'y': 166.0}, 79: {'x': 65.0, 'y': 174.0}, 80: {'x': 73.0, 'y': 161.0}, 81: {'x': 86.0, 'y': 162.0}, 82: {'x': 2.0, 'y': 195.0}, 83: {'x': 14.0, 'y': 196.0}, 84: {'x': 28.0, 'y': 189.0}, 85: {'x': 38.0, 'y': 187.0}, 86: {'x': 46.0, 'y': 195.0}, 87: {'x': 57.0, 'y': 194.0}, 88: {'x': 63.0, 'y': 188.0}, 89: {'x': 77.0, 'y': 193.0}, 90: {'x': 85.0, 'y': 194.0}, 91: {'x': 8.0, 'y': 211.0}, 92: {'x': 12.0, 'y': 217.0}, 93: {'x': 22.0, 'y': 210.0}, 94: {'x': 34.0, 'y': 216.0}, 95: {'x': 47.0, 'y': 203.0}, 96: {'x': 58.0, 'y': 213.0}, 97: {'x': 66.0, 'y': 206.0}, 98: {'x': 78.0, 'y': 210.0}, 99: {'x': 85.0, 'y': 204.0}}\n"
          ]
        }
      ]
    },
    {
      "cell_type": "markdown",
      "source": [
        "\n",
        "\n",
        "```\n",
        "# Isto está formatado como código\n",
        "```\n",
        "\n",
        "#Criação da matriz de distâncias\n",
        "Criaremos uma matriz de distâncias com a dimensão equivalente ao número total de cidades da instância. Também, declaramos a função para calcular a distância euclidiana entre duas cidades, que será usada na classe que calcula a aptidão da solução.\n"
      ],
      "metadata": {
        "id": "j2FKIkwhi0Ei"
      }
    },
    {
      "cell_type": "code",
      "source": [
        "# Criar a matriz de distâncias de Berlin\n",
        "num_cities = len(berlin52_dict)\n",
        "distance_matrix = np.zeros((num_cities, num_cities))\n",
        "city_ids = list(berlin52_dict.keys())\n",
        "\n",
        "#Valores possíveis\n",
        "possible_values = num_cities\n",
        "\n",
        "# Função para calcular a distância Euclidiana entre duas cidades\n",
        "def euclidean_distance(city1, city2):\n",
        "    return np.sqrt((city1[\"x\"] - city2[\"x\"])**2 + (city1[\"y\"] - city2[\"y\"])**2)\n",
        "\n"
      ],
      "metadata": {
        "id": "rbZw8FUYbCO-"
      },
      "execution_count": 144,
      "outputs": []
    },
    {
      "cell_type": "markdown",
      "source": [
        "#Cálculo da aptidão\n",
        "\n",
        "Criaremos a classe EvaluationRoads, que percorrerá a matriz de cidades e aplicará o cálculo da distância eucludiana entre as coordenadas entre os elementos, com o objetivo de calcular a aptidão (fitness) da solução."
      ],
      "metadata": {
        "id": "v7h7g_kPf9DR"
      }
    },
    {
      "cell_type": "code",
      "source": [
        "class EvaluationRoads:\n",
        "  # armazena instância do problema na inicialização\n",
        "    def __init__(self, n):\n",
        "        self.n = n\n",
        "  #Calcula valor da solução:\n",
        "    def __call__(self, solution):\n",
        "      total_distance = 0;\n",
        "\n",
        "      for i in range(num_cities):\n",
        "        for j in range(num_cities):\n",
        "          if i != j:\n",
        "            distance_matrix[i, j] = euclidean_distance(berlin52_dict[city_ids[i]], berlin52_dict[city_ids[j]])\n",
        "            total_distance += distance_matrix[i, j]\n",
        "\n",
        "      return total_distance\n",
        "\n"
      ],
      "metadata": {
        "id": "ilVO-NH7cmv-"
      },
      "execution_count": 145,
      "outputs": []
    },
    {
      "cell_type": "markdown",
      "source": [
        "Considerando que a função objetivo avalia a qualidade (aptidão) de uma solução, para calcular a distância total do percurso, se utiliza a mesma função mencionada anteriormente:\n",
        "![image-removebg-preview (2).png](data:image/png;base64,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)\n",
        "\n",
        "\n",
        "\n",
        "\n",
        "Algoritimo do Vizinho mais Proximo"
      ],
      "metadata": {
        "id": "62STglMRozW1"
      }
    },
    {
      "cell_type": "code",
      "source": [
        "\n",
        "# Algoritmo do Vizinho Mais Próximo (NN)\n",
        "def nearest_neighbor_tsp(distance_matrix):\n",
        "    num_cities = len(distance_matrix)\n",
        "    visited = [False] * num_cities\n",
        "    tour = [0]  # Começamos pela primeira cidade (índice 0)\n",
        "    visited[0] = True\n",
        "    total_distance = 0\n",
        "\n",
        "    for _ in range(num_cities - 1):\n",
        "        last_city = tour[-1]\n",
        "        nearest_city = None\n",
        "        min_distance = float(\"inf\")\n",
        "\n",
        "        for i in range(num_cities):\n",
        "            if not visited[i] and distance_matrix[last_city, i] < min_distance:\n",
        "                min_distance = distance_matrix[last_city, i]\n",
        "                nearest_city = i\n",
        "\n",
        "        tour.append(nearest_city)\n",
        "        visited[nearest_city] = True\n",
        "        total_distance += min_distance\n",
        "\n",
        "    # Retorna à cidade inicial\n",
        "    total_distance += distance_matrix[tour[-1], tour[0]]\n",
        "    tour.append(tour[0])\n",
        "\n",
        "    return tour, total_distance\n",
        "\n",
        "# Executar o algoritmo NN para Berlin52\n",
        "tour, total_distance = nearest_neighbor_tsp(distance_matrix)\n",
        "\n",
        "# Exibir o resultado\n",
        "print(\"Ordem das cidades visitadas:\", [city_ids[i] for i in tour])\n",
        "print(\"Distância total do percurso:\", total_distance)\n"
      ],
      "metadata": {
        "colab": {
          "base_uri": "https://localhost:8080/"
        },
        "id": "mByngwpSo3Fj",
        "outputId": "ed6baf75-5a81-453f-c941-3c2179fdee59"
      },
      "execution_count": 146,
      "outputs": [
        {
          "output_type": "stream",
          "name": "stdout",
          "text": [
            "Ordem das cidades visitadas: [1, 2, 3, 4, 5, 6, 7, 8, 9, 10, 12, 13, 14, 15, 16, 17, 18, 20, 21, 22, 23, 24, 25, 26, 27, 28, 29, 30, 31, 32, 33, 34, 35, 36, 37, 38, 39, 40, 41, 42, 43, 44, 45, 46, 47, 48, 49, 50, 51, 52, 1]\n",
            "Distância total do percurso: 0.0\n"
          ]
        }
      ]
    },
    {
      "cell_type": "markdown",
      "source": [
        "# Aplicação do Algoritimo Genético\n",
        "\n",
        "Tendo como exemplo as instancias de \"berlin52\"\n",
        "\n",
        "\n",
        "Declaração das Instancias:\n"
      ],
      "metadata": {
        "id": "NwckKgov0nCO"
      }
    },
    {
      "cell_type": "markdown",
      "source": [
        "Estado de Seleção por roleta:"
      ],
      "metadata": {
        "id": "hYAVFPlr6WIm"
      }
    },
    {
      "cell_type": "code",
      "source": [
        "def select_tournament(pop_size, population, fitness_fn, k=3):\n",
        "    selected = []\n",
        "    for _ in range(pop_size):\n",
        "        # Seleciona k indivíduos aleatoriamente da população\n",
        "        tournament = random.sample(population, k)\n",
        "        # Seleciona o indivíduo com o melhor fitness do torneio\n",
        "        best_individual = max(tournament, key=fitness_fn)  # Buscando MAX, já que quanto menor o denominador, maior o retorno da fitness\n",
        "        selected.append(best_individual)\n",
        "    return selected\n"
      ],
      "metadata": {
        "id": "usLVo5lz6b5b"
      },
      "execution_count": 147,
      "outputs": []
    },
    {
      "cell_type": "markdown",
      "source": [
        "Estado de Cruzamento:"
      ],
      "metadata": {
        "id": "sgpS2bKT6p2D"
      }
    },
    {
      "cell_type": "code",
      "source": [
        "def order_crossover(parent1, parent2,num_cities):\n",
        "    # Garante que só existam 10 genes (sem cidade duplicada no final)\n",
        "    if parent1[0] == parent1[-1]:\n",
        "        parent1 = parent1[:-1]\n",
        "    if parent2[0] == parent2[-1]:\n",
        "        parent2 = parent2[:-1]\n",
        "\n",
        "    n = num_cities + 1  # Tamanho fixo de genes para evitar index out of range\n",
        "    a, b = sorted(random.sample(range(n), 2))\n",
        "    child = [None] * n\n",
        "\n",
        "    # Copia fatia do primeiro pai\n",
        "    child[a:b] = parent1[a:b]\n",
        "\n",
        "    # Preenche os espaços vazios com genes do segundo pai\n",
        "    p2_genes = [gene for gene in parent2 if gene not in child]\n",
        "\n",
        "    idx = 0\n",
        "    for i in range(n-1):\n",
        "        if child[i] is None:\n",
        "            child[i] = p2_genes[idx]\n",
        "            idx += 1\n",
        "\n",
        "    # Retorna à cidade inicial no final\n",
        "    child = [gene for gene in child if gene is not None]\n",
        "\n",
        "    child.append(child[0])\n",
        "    return child\n",
        "\n"
      ],
      "metadata": {
        "id": "PvLvGyeo6nPz"
      },
      "execution_count": 156,
      "outputs": []
    },
    {
      "cell_type": "markdown",
      "source": [
        "Estado de Mutação"
      ],
      "metadata": {
        "id": "bMFOn676EnWH"
      }
    },
    {
      "cell_type": "code",
      "source": [
        "def mutate_inversion(individual, pmut):\n",
        "    if random.random() < pmut:\n",
        "        i, j = sorted(random.sample(range(len(individual)), 2))\n",
        "        individual[i:j] = reversed(individual[i:j])\n",
        "    return individual\n"
      ],
      "metadata": {
        "id": "q-jzyIsG6v6n"
      },
      "execution_count": 149,
      "outputs": []
    },
    {
      "cell_type": "markdown",
      "source": [
        "Aplicação:"
      ],
      "metadata": {
        "id": "wRyDeYSOEozK"
      }
    },
    {
      "cell_type": "markdown",
      "source": [
        "#Instância Berlin52"
      ],
      "metadata": {
        "id": "3_3sMpo7o5-K"
      }
    },
    {
      "cell_type": "code",
      "source": [
        "import random\n",
        "import math\n",
        "import bisect\n",
        "import pandas as pd\n",
        "\n",
        "#Declaração de Instancias\n",
        "\n",
        "\n",
        "berlin52_df = pd.read_csv(\"berlin52.txt\", sep=\" \", header=None, names=[\"id\", \"x\", \"y\"], on_bad_lines='skip')\n",
        "berlin52_dict = berlin52_df.set_index(\"id\").to_dict(orient=\"index\")\n",
        "\n",
        "#Função para calcular distância euclidiana entre cidades\n",
        "def dist(a, b):\n",
        "    return math.hypot(a[0] - b[0], a[1] - b[1])\n",
        "\n",
        "#Função para calcular distância total de um caminho\n",
        "def total_distance(route):\n",
        "    return sum(\n",
        "        dist(\n",
        "            (berlin52_dict[route[i]]['x'], berlin52_dict[route[i]]['y']),\n",
        "            (berlin52_dict[route[i+1]]['x'], berlin52_dict[route[i+1]]['y'])\n",
        "        )\n",
        "        for i in range(len(route)-1)\n",
        "    ) + dist(\n",
        "        (berlin52_dict[route[-1]]['x'], berlin52_dict[route[-1]]['y']),\n",
        "        (berlin52_dict[route[0]]['x'], berlin52_dict[route[0]]['y'])\n",
        "    )\n",
        "\n",
        "#Função de fitness: quanto menor a distância, maior o fitness\n",
        "def fitness(route):\n",
        "    return 1 / (total_distance(route))\n",
        "\n",
        "#Gerar população inicial\n",
        "def init_population(size, city_ids):\n",
        "    return [random.sample(city_ids, len(city_ids)) for _ in range(size)]\n",
        "\n",
        "#Parâmetros\n",
        "POP_SIZE = 1000\n",
        "GENERATIONS = 500\n",
        "PMUT = 0.1\n",
        "city_ids = list(berlin52_dict.keys())\n",
        "NUM_CITIES = len(city_ids)\n",
        "population = init_population(POP_SIZE, city_ids)\n",
        "\n",
        "\n",
        "#Loop evolutivo\n",
        "for generation in range(GENERATIONS):\n",
        "    # Seleção (torneio)\n",
        "    selected = select_tournament(POP_SIZE, population, fitness)\n",
        "\n",
        "    # Cruzamento (ponto único)\n",
        "    offspring = []\n",
        "    for i in range(0, POP_SIZE, 2):\n",
        "        p1, p2 = selected[i], selected[i+1]\n",
        "        child1 = order_crossover(p1, p2,NUM_CITIES)\n",
        "        child2 = order_crossover(p2, p1, NUM_CITIES)\n",
        "\n",
        "        offspring.extend([child1, child2])\n",
        "\n",
        "    # Mutação (uniforme)\n",
        "    gene_pool = city_ids.copy()\n",
        "\n",
        "    mutated = [mutate_inversion(ind, PMUT) for ind in offspring]\n",
        "\n",
        "    # Substituição direta\n",
        "    population = mutated\n",
        "\n",
        "#Melhor indivíduo final\n",
        "\n",
        "#elitismo\n",
        "elite = min(population, key=total_distance)\n",
        "population[0] = elite  # substitui o primeiro pela elite\n",
        "best = population[0]\n",
        "\n",
        "print(\"Melhor rota:\", best)\n",
        "print(\"Distância:\", total_distance(best))\n"
      ],
      "metadata": {
        "colab": {
          "base_uri": "https://localhost:8080/"
        },
        "id": "q1VqEElEExiW",
        "outputId": "3c8e3b3b-b089-40ad-8b12-888027efe53e",
        "collapsed": true
      },
      "execution_count": 157,
      "outputs": [
        {
          "output_type": "stream",
          "name": "stdout",
          "text": [
            "Melhor rota: [29, 30, 2, 7, 42, 21, 17, 3, 18, 31, 23, 20, 50, 16, 44, 1, 22, 49, 32, 45, 41, 8, 9, 10, 36, 35, 34, 39, 40, 38, 37, 46, 48, 24, 5, 15, 6, 25, 4, 43, 33, 51, 12, 28, 26, 27, 13, 52, 14, 47, 29]\n",
            "Distância: 8041.017161943788\n"
          ]
        }
      ]
    },
    {
      "cell_type": "markdown",
      "source": [
        "#Instância Eil51"
      ],
      "metadata": {
        "id": "Iq8GEw1Soz93"
      }
    },
    {
      "cell_type": "code",
      "source": [
        "#Declaração de Instancias\n",
        "\n",
        "\n",
        "eil51_df = pd.read_csv(\"eil51.txt\", sep=\" \", header=None, names=[\"id\", \"x\", \"y\"], on_bad_lines='skip')\n",
        "eil51_dict = eil51_df.set_index(\"id\").to_dict(orient=\"index\")\n",
        "\n",
        "#Função para calcular distância euclidiana entre cidades\n",
        "def dist(a, b):\n",
        "    return math.hypot(a[0] - b[0], a[1] - b[1])\n",
        "\n",
        "#Função para calcular distância total de um caminho\n",
        "def total_distance(route):\n",
        "    return sum(\n",
        "        dist(\n",
        "            (eil51_dict[route[i]]['x'], eil51_dict[route[i]]['y']),\n",
        "            (eil51_dict[route[i+1]]['x'], eil51_dict[route[i+1]]['y'])\n",
        "        )\n",
        "        for i in range(len(route)-1)\n",
        "    ) + dist(\n",
        "        (eil51_dict[route[-1]]['x'], eil51_dict[route[-1]]['y']),\n",
        "        (eil51_dict[route[0]]['x'], eil51_dict[route[0]]['y'])\n",
        "    )\n",
        "\n",
        "#Função de fitness: quanto menor a distância, maior o fitness\n",
        "def fitness(route):\n",
        "    return 1 / (total_distance(route))\n",
        "\n",
        "#Gerar população inicial\n",
        "def init_population(size, city_ids):\n",
        "    return [random.sample(city_ids, len(city_ids)) for _ in range(size)]\n",
        "\n",
        "#Parâmetros\n",
        "POP_SIZE = 1000\n",
        "GENERATIONS = 500\n",
        "PMUT = 0.1\n",
        "city_ids = list(eil51_dict.keys())\n",
        "NUM_CITIES = len(city_ids)\n",
        "population = init_population(POP_SIZE, city_ids)\n",
        "\n",
        "\n",
        "#Loop evolutivo\n",
        "for generation in range(GENERATIONS):\n",
        "    # Seleção (torneio)\n",
        "    selected = select_tournament(POP_SIZE, population, fitness)\n",
        "\n",
        "    # Cruzamento (ponto único)\n",
        "    offspring = []\n",
        "    for i in range(0, POP_SIZE, 2):\n",
        "        p1, p2 = selected[i], selected[i+1]\n",
        "        child1 = order_crossover(p1, p2,NUM_CITIES)\n",
        "        child2 = order_crossover(p2, p1, NUM_CITIES)\n",
        "\n",
        "        offspring.extend([child1, child2])\n",
        "\n",
        "    # Mutação (uniforme)\n",
        "    gene_pool = city_ids.copy()\n",
        "\n",
        "    mutated = [mutate_inversion(ind, PMUT) for ind in offspring]\n",
        "\n",
        "    # Substituição direta\n",
        "    population = mutated\n",
        "\n",
        "#Melhor indivíduo final\n",
        "\n",
        "#elitismo\n",
        "elite = min(population, key=total_distance)\n",
        "population[0] = elite  # substitui o primeiro pela elite\n",
        "best = population[0]\n",
        "\n",
        "print(\"Melhor rota:\", best)\n",
        "print(\"Distância:\", total_distance(best))"
      ],
      "metadata": {
        "colab": {
          "base_uri": "https://localhost:8080/"
        },
        "id": "SHNhvzqndCSH",
        "outputId": "e2cbcb41-ef3b-4023-c091-a8283fada2ea"
      },
      "execution_count": 165,
      "outputs": [
        {
          "output_type": "stream",
          "name": "stdout",
          "text": [
            "Melhor rota: [4, 17, 37, 15, 33, 45, 44, 42, 19, 40, 41, 13, 25, 14, 18, 47, 12, 46, 51, 6, 23, 24, 43, 7, 26, 8, 48, 27, 32, 1, 22, 31, 28, 3, 36, 35, 20, 2, 29, 21, 16, 50, 34, 30, 39, 10, 49, 9, 38, 11, 5, 4]\n",
            "Distância: 459.93129935289824\n"
          ]
        }
      ]
    },
    {
      "cell_type": "markdown",
      "source": [
        "#Instância Pr152"
      ],
      "metadata": {
        "id": "f7ZnJNHsprig"
      }
    },
    {
      "cell_type": "code",
      "source": [
        "#Declaração de Instancias\n",
        "\n",
        "\n",
        "pr152_df = pd.read_csv(\"pr152.txt\", sep=\" \", header=None, names=[\"id\", \"x\", \"y\"], on_bad_lines='skip')\n",
        "pr152_dict = pr152_df.set_index(\"id\").to_dict(orient=\"index\")\n",
        "\n",
        "#Função para calcular distância euclidiana entre cidades\n",
        "def dist(a, b):\n",
        "    return math.hypot(a[0] - b[0], a[1] - b[1])\n",
        "\n",
        "#Função para calcular distância total de um caminho\n",
        "def total_distance(route):\n",
        "    return sum(\n",
        "        dist(\n",
        "            (pr152_dict[route[i]]['x'], pr152_dict[route[i]]['y']),\n",
        "            (pr152_dict[route[i+1]]['x'], pr152_dict[route[i+1]]['y'])\n",
        "        )\n",
        "        for i in range(len(route)-1)\n",
        "    ) + dist(\n",
        "        (pr152_dict[route[-1]]['x'], pr152_dict[route[-1]]['y']),\n",
        "        (pr152_dict[route[0]]['x'], pr152_dict[route[0]]['y'])\n",
        "    )\n",
        "\n",
        "#Função de fitness: quanto menor a distância, maior o fitness\n",
        "def fitness(route):\n",
        "    return 1 / (total_distance(route))\n",
        "\n",
        "#Gerar população inicial\n",
        "def init_population(size, city_ids):\n",
        "    return [random.sample(city_ids, len(city_ids)) for _ in range(size)]\n",
        "\n",
        "#Parâmetros\n",
        "POP_SIZE = 1000\n",
        "GENERATIONS = 500\n",
        "PMUT = 0.1\n",
        "city_ids = list(pr152_dict.keys())\n",
        "NUM_CITIES = len(city_ids)\n",
        "population = init_population(POP_SIZE, city_ids)\n",
        "\n",
        "\n",
        "#Loop evolutivo\n",
        "for generation in range(GENERATIONS):\n",
        "    # Seleção (torneio)\n",
        "    selected = select_tournament(POP_SIZE, population, fitness)\n",
        "\n",
        "    # Cruzamento (ponto único)\n",
        "    offspring = []\n",
        "    for i in range(0, POP_SIZE, 2):\n",
        "        p1, p2 = selected[i], selected[i+1]\n",
        "        child1 = order_crossover(p1, p2,NUM_CITIES)\n",
        "        child2 = order_crossover(p2, p1, NUM_CITIES)\n",
        "\n",
        "        offspring.extend([child1, child2])\n",
        "\n",
        "    # Mutação (uniforme)\n",
        "    gene_pool = city_ids.copy()\n",
        "\n",
        "    mutated = [mutate_inversion(ind, PMUT) for ind in offspring]\n",
        "\n",
        "    # Substituição direta\n",
        "    population = mutated\n",
        "\n",
        "#Melhor indivíduo final\n",
        "\n",
        "#elitismo\n",
        "elite = min(population, key=total_distance)\n",
        "population[0] = elite  # substitui o primeiro pela elite\n",
        "best = population[0]\n",
        "\n",
        "print(\"Melhor rota:\", best)\n",
        "print(\"Distância:\", total_distance(best))"
      ],
      "metadata": {
        "colab": {
          "base_uri": "https://localhost:8080/"
        },
        "id": "QbUGWPv7pA7V",
        "outputId": "5d779e7b-23a1-47d4-fabb-9b95e1dc9206"
      },
      "execution_count": 161,
      "outputs": [
        {
          "output_type": "stream",
          "name": "stdout",
          "text": [
            "Melhor rota: [111, 48, 132, 71, 130, 149, 78, 92, 6, 39, 112, 85, 143, 91, 147, 129, 145, 136, 141, 118, 126, 127, 96, 26, 36, 35, 32, 63, 134, 99, 70, 146, 119, 121, 133, 148, 54, 47, 137, 114, 74, 86, 58, 152, 123, 125, 151, 94, 101, 104, 38, 11, 109, 22, 7, 97, 81, 103, 53, 33, 37, 76, 31, 15, 34, 14, 28, 27, 106, 60, 64, 90, 62, 89, 79, 77, 49, 95, 23, 4, 13, 40, 8, 18, 75, 116, 50, 87, 51, 72, 73, 80, 98, 100, 69, 45, 46, 115, 144, 138, 117, 140, 139, 142, 105, 135, 120, 24, 5, 25, 19, 67, 65, 55, 56, 43, 102, 88, 110, 3, 12, 17, 20, 84, 42, 57, 1, 2, 30, 9, 29, 21, 68, 107, 59, 61, 83, 10, 44, 131, 128, 150, 124, 122, 16, 66, 52, 113, 82, 108, 41, 93, 111]\n",
            "Distância: 574236.5531187591\n"
          ]
        }
      ]
    },
    {
      "cell_type": "markdown",
      "source": [
        "#Instância Rat99"
      ],
      "metadata": {
        "id": "HOvb6LT5pvtG"
      }
    },
    {
      "cell_type": "code",
      "source": [
        "#Declaração de Instancias\n",
        "\n",
        "\n",
        "rat99_df = pd.read_csv(\"rat99.txt\", sep=\" \", header=None, names=[\"id\", \"x\", \"y\"], on_bad_lines='skip')\n",
        "rat99_dict = rat99_df.set_index(\"id\").to_dict(orient=\"index\")\n",
        "\n",
        "#Função para calcular distância euclidiana entre cidades\n",
        "def dist(a, b):\n",
        "    return math.hypot(a[0] - b[0], a[1] - b[1])\n",
        "\n",
        "#Função para calcular distância total de um caminho\n",
        "def total_distance(route):\n",
        "    return sum(\n",
        "        dist(\n",
        "            (rat99_dict[route[i]]['x'], rat99_dict[route[i]]['y']),\n",
        "            (rat99_dict[route[i+1]]['x'], rat99_dict[route[i+1]]['y'])\n",
        "        )\n",
        "        for i in range(len(route)-1)\n",
        "    ) + dist(\n",
        "        (rat99_dict[route[-1]]['x'], rat99_dict[route[-1]]['y']),\n",
        "        (rat99_dict[route[0]]['x'], rat99_dict[route[0]]['y'])\n",
        "    )\n",
        "\n",
        "#Função de fitness: quanto menor a distância, maior o fitness\n",
        "def fitness(route):\n",
        "    return 1 / (total_distance(route))\n",
        "\n",
        "#Gerar população inicial\n",
        "def init_population(size, city_ids):\n",
        "    return [random.sample(city_ids, len(city_ids)) for _ in range(size)]\n",
        "\n",
        "#Parâmetros\n",
        "POP_SIZE = 1000\n",
        "GENERATIONS = 500\n",
        "PMUT = 0.1\n",
        "city_ids = list(rat99_dict.keys())\n",
        "NUM_CITIES = len(city_ids)\n",
        "population = init_population(POP_SIZE, city_ids)\n",
        "\n",
        "\n",
        "#Loop evolutivo\n",
        "for generation in range(GENERATIONS):\n",
        "    # Seleção (torneio)\n",
        "    selected = select_tournament(POP_SIZE, population, fitness)\n",
        "\n",
        "    # Cruzamento (ponto único)\n",
        "    offspring = []\n",
        "    for i in range(0, POP_SIZE, 2):\n",
        "        p1, p2 = selected[i], selected[i+1]\n",
        "        child1 = order_crossover(p1, p2,NUM_CITIES)\n",
        "        child2 = order_crossover(p2, p1, NUM_CITIES)\n",
        "\n",
        "        offspring.extend([child1, child2])\n",
        "\n",
        "    # Mutação (uniforme)\n",
        "    gene_pool = city_ids.copy()\n",
        "\n",
        "    mutated = [mutate_inversion(ind, PMUT) for ind in offspring]\n",
        "\n",
        "    # Substituição direta\n",
        "    population = mutated\n",
        "\n",
        "#Melhor indivíduo final\n",
        "\n",
        "#elitismo\n",
        "elite = min(population, key=total_distance)\n",
        "population[0] = elite  # substitui o primeiro pela elite\n",
        "best = population[0]\n",
        "\n",
        "print(\"Melhor rota:\", best)\n",
        "print(\"Distância:\", total_distance(best))"
      ],
      "metadata": {
        "colab": {
          "base_uri": "https://localhost:8080/"
        },
        "id": "XT_ToAM2pZ2T",
        "outputId": "50ade8e1-9853-4caf-af5a-c8cb92c7d235"
      },
      "execution_count": 163,
      "outputs": [
        {
          "output_type": "stream",
          "name": "stdout",
          "text": [
            "Melhor rota: [61, 66, 67, 81, 70, 65, 57, 60, 75, 95, 86, 92, 87, 89, 98, 96, 94, 91, 85, 68, 88, 99, 71, 58, 29, 46, 55, 74, 83, 73, 39, 79, 90, 40, 56, 80, 72, 8, 53, 54, 93, 64, 82, 76, 62, 52, 13, 63, 45, 50, 77, 51, 38, 15, 30, 48, 49, 33, 36, 59, 69, 35, 24, 32, 31, 28, 4, 43, 44, 6, 7, 9, 18, 17, 27, 34, 26, 16, 25, 22, 21, 23, 20, 3, 12, 19, 47, 41, 5, 1, 2, 10, 14, 11, 37, 78, 97, 84, 42, 61]\n",
            "Distância: 4220.427573918614\n"
          ]
        }
      ]
    }
  ]
}